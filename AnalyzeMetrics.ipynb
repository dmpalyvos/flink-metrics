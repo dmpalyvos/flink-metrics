{
 "cells": [
  {
   "cell_type": "code",
   "execution_count": null,
   "metadata": {},
   "outputs": [],
   "source": [
    "import pandas as pd\n",
    "import matplotlib\n",
    "import matplotlib.pyplot as plt\n",
    "import re\n",
    "import requests\n",
    "import time\n",
    "\n",
    "from ipywidgets import interact, interactive, fixed, interact_manual\n",
    "import ipywidgets as widgets\n",
    "\n",
    "plt.style.use('ggplot')"
   ]
  },
  {
   "cell_type": "markdown",
   "metadata": {},
   "source": [
    "## Configuration"
   ]
  },
  {
   "cell_type": "code",
   "execution_count": null,
   "metadata": {},
   "outputs": [],
   "source": [
    "BASE_URL = 'http://localhost:9000'\n",
    "SAMPLING_FREQ_SEC = 1\n",
    "DURATION_SEC = 300"
   ]
  },
  {
   "cell_type": "code",
   "execution_count": null,
   "metadata": {},
   "outputs": [],
   "source": [
    "def splitComponent(component, pattern):\n",
    "    m = METRIC_PATTERN.match(component)\n",
    "    return m.group(1), m.group(2)\n",
    "\n",
    "def getAvailableVertexMetrics(jobID, vertexID):\n",
    "    return requests.get(f'{BASE_URL}/jobs/{jobID}/vertices/{vertexID}/metrics').json()\n",
    "\n",
    "def getMetrics(jobID, vertexID, metrics, maxRequestLength=40):\n",
    "    def rawGetMetrics(jobID, vertexID, metrics):\n",
    "        metricString = ','.join(metrics)\n",
    "        return requests.get(f'{BASE_URL}/jobs/{runningJobID}/vertices/{vertexID}/metrics', params={'get': metricString}).json()\n",
    "    completeJSON = []\n",
    "    # Split metric requests so that the request string does not become too long\n",
    "    for i in range(0, len(metrics), maxRequestLength):\n",
    "        partialMetrics = metrics[i:i+maxRequestLength]\n",
    "        completeJSON += rawGetMetrics(jobID, vertexID, partialMetrics)\n",
    "    return completeJSON"
   ]
  },
  {
   "cell_type": "code",
   "execution_count": null,
   "metadata": {},
   "outputs": [],
   "source": [
    "METRIC_PATTERN = None\n",
    "\n",
    "jobs = requests.get(f'{BASE_URL}/jobs').json()['jobs']\n",
    "runningJobs = [job for job in jobs if job['status'] == 'RUNNING']\n",
    "assert len(runningJobs) == 1, 'Toolkit can only work with exactly one running job!'\n",
    "runningJobID = runningJobs[0]['id']\n",
    "print(f'Selected running job: {runningJobID}')\n",
    "\n",
    "vertices = requests.get(f'{BASE_URL}/jobs/{runningJobID}').json()['vertices']\n",
    "allMetrics = set()\n",
    "metricRequests = {}\n",
    "vertexIndex = []\n",
    "\n",
    "for vertex in vertices:\n",
    "    vertexID = vertex['id']\n",
    "    vertexIndex.append((vertexID, vertex['name']))\n",
    "    availableMetrics = getAvailableVertexMetrics(runningJobID, vertexID)\n",
    "    allMetrics |= set(metric['id'].split('.')[-1] for metric in availableMetrics)\n",
    "    \n",
    "@interact(metric=allMetrics)\n",
    "def retrieveMetrics(metric):\n",
    "    global METRIC_PATTERN\n",
    "    METRIC_PATTERN = re.compile(f'(\\d+)\\.(.+)\\.{metric}')\n",
    "    for vertex in vertices:\n",
    "        vertexID = vertex['id']\n",
    "        availableMetrics = getAvailableVertexMetrics(runningJobID, vertexID)\n",
    "        selectedMetrics = [metric['id'] for metric in availableMetrics if METRIC_PATTERN.match(metric['id'])]\n",
    "        metricRequests[vertexID] = selectedMetrics\n",
    "        print(f'{len(selectedMetrics)} metrics for {vertexID}')"
   ]
  },
  {
   "cell_type": "code",
   "execution_count": null,
   "metadata": {},
   "outputs": [],
   "source": [
    "# Print Vertex Index\n",
    "for (vertexID, vertexName) in vertexIndex:\n",
    "    print(vertexID[:5], vertexName)"
   ]
  },
  {
   "cell_type": "code",
   "execution_count": null,
   "metadata": {
    "scrolled": false
   },
   "outputs": [],
   "source": [
    "%matplotlib inline\n",
    "%load_ext autoreload\n",
    "%autoreload 2\n",
    "%matplotlib notebook\n",
    "\n",
    "records = pd.DataFrame(columns=['t', 'vertice', 'component', 'instance', 'value'])\n",
    "\n",
    "\n",
    "fig, ax = plt.subplots(figsize=(8, 6))\n",
    "plt.ion()\n",
    "fig.show()\n",
    "fig.canvas.draw()\n",
    "\n",
    "start = time.time()\n",
    "currentTime = time.time()\n",
    "while currentTime - start < DURATION_SEC:\n",
    "    for vertex in vertices:\n",
    "        vertexID = vertex['id']\n",
    "        metricValues = getMetrics(runningJobID, vertexID, metricRequests[vertexID])\n",
    "        for metric in metricValues:\n",
    "            component = metric['id']\n",
    "            componentInstance, componentName  = splitComponent(component, METRIC_PATTERN)\n",
    "            records = records.append({'t': currentTime, 'vertice': vertexID, 'component': componentName, 'instance': componentInstance, 'value': metric['value']}, ignore_index=True)\n",
    "        currentTime = time.time()\n",
    "    time.sleep(SAMPLING_FREQ_SEC)\n",
    "    records['t'] = records['t'].astype(int)\n",
    "    records['value'] = records['value'].astype(float)\n",
    "    ax.clear()\n",
    "    for name, group in records.groupby(['t', 'vertice', 'component']).mean().groupby(level=['vertice', 'component']):\n",
    "        data = group.reset_index()\n",
    "        ax.plot(data.t, data.value, alpha=.7, label=name[0][:5] + '_' + name[1][:15])\n",
    "    ax.legend()\n",
    "    fig.canvas.draw()\n",
    "    "
   ]
  },
  {
   "cell_type": "code",
   "execution_count": null,
   "metadata": {},
   "outputs": [],
   "source": []
  }
 ],
 "metadata": {
  "kernelspec": {
   "display_name": "Python 3",
   "language": "python",
   "name": "python3"
  },
  "language_info": {
   "codemirror_mode": {
    "name": "ipython",
    "version": 3
   },
   "file_extension": ".py",
   "mimetype": "text/x-python",
   "name": "python",
   "nbconvert_exporter": "python",
   "pygments_lexer": "ipython3",
   "version": "3.6.6"
  }
 },
 "nbformat": 4,
 "nbformat_minor": 2
}
