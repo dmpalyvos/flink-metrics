{
 "cells": [
  {
   "cell_type": "code",
   "execution_count": null,
   "metadata": {},
   "outputs": [],
   "source": []
  },
  {
   "cell_type": "code",
   "execution_count": null,
   "metadata": {},
   "outputs": [],
   "source": [
    "import pandas as pd\n",
    "import matplotlib\n",
    "import matplotlib.pyplot as plt\n",
    "import re\n",
    "import requests\n",
    "import time\n",
    "\n",
    "plt.style.use('ggplot')"
   ]
  },
  {
   "cell_type": "code",
   "execution_count": null,
   "metadata": {},
   "outputs": [],
   "source": [
    "def splitComponent(component, pattern):\n",
    "    m = METRIC_PATTERN.match(component)\n",
    "    return m.group(1), m.group(2)"
   ]
  },
  {
   "cell_type": "markdown",
   "metadata": {},
   "source": [
    "## Configuration"
   ]
  },
  {
   "cell_type": "code",
   "execution_count": null,
   "metadata": {},
   "outputs": [],
   "source": [
    "METRIC = 'numRecordsOutPerSecond'\n",
    "BASE_URL = 'http://localhost:9000'\n",
    "SAMPLING_FREQ_SEC = 1\n",
    "DURATION_SEC = 300"
   ]
  },
  {
   "cell_type": "code",
   "execution_count": null,
   "metadata": {},
   "outputs": [],
   "source": [
    "%matplotlib inline\n",
    "%load_ext autoreload\n",
    "%autoreload 2\n",
    "%matplotlib notebook\n",
    "\n",
    "METRIC_PATTERN = re.compile(f'(\\d+)\\.(.+)\\.{METRIC}')\n",
    "\n",
    "records = pd.DataFrame(columns=['t', 'vertice', 'component', 'instance', 'value'])\n",
    "\n",
    "jobs = requests.get(f'{BASE_URL}/jobs').json()['jobs']\n",
    "runningJobs = [job for job in jobs if job['status'] == 'RUNNING']\n",
    "assert len(runningJobs) == 1, 'Toolkit can only work with exactly one running job!'\n",
    "runningJobID = runningJobs[0]['id']\n",
    "print(f'Recording metrics for {runningJobID}')\n",
    "\n",
    "vertices = requests.get(f'{BASE_URL}/jobs/{runningJobID}').json()['vertices']\n",
    "metricRequests = {}\n",
    "vertexIndex = []\n",
    "for vertice in vertices:\n",
    "    verticeID = vertice['id']\n",
    "    vertexIndex.append((vertice['id'], vertice['name']))\n",
    "    metricsList = requests.get(f'{BASE_URL}/jobs/{runningJobID}/vertices/{verticeID}/metrics').json()\n",
    "    selectedMetrics = [metric['id'] for metric in metricsList if METRIC_PATTERN.match(metric['id'])]\n",
    "    metricRequests[verticeID] = ','.join(selectedMetrics)\n",
    "    print(f'{verticeID}: {len(selectedMetrics)} metrics')\n",
    "\n",
    "print()\n",
    "# Print Vertex Index\n",
    "for (vId, v) in vertexIndex:\n",
    "    print(vId[:5], v)\n",
    "    \n",
    "fig, ax = plt.subplots(figsize=(8, 6))\n",
    "plt.ion()\n",
    "fig.show()\n",
    "fig.canvas.draw()\n",
    "\n",
    "start = time.time()\n",
    "currentTime = time.time()\n",
    "while currentTime - start < DURATION_SEC:\n",
    "    for vertice in vertices:\n",
    "        verticeID = vertice['id']\n",
    "        req = metricRequests[verticeID]\n",
    "        metricValues = requests.get(f'{BASE_URL}/jobs/{runningJobID}/vertices/{verticeID}/metrics?get={req}').json()\n",
    "        for metric in metricValues:\n",
    "            component = metric['id']\n",
    "            componentInstance, componentName  = splitComponent(component, METRIC_PATTERN)\n",
    "            records = records.append({'t': currentTime, 'vertice': verticeID, 'component': componentName, 'instance': componentInstance, 'value': metric['value']}, ignore_index=True)\n",
    "        currentTime = time.time()\n",
    "    time.sleep(SAMPLING_FREQ_SEC)\n",
    "    records['t'] = records['t'].astype(int)\n",
    "    records['value'] = records['value'].astype(float)\n",
    "    ax.clear()\n",
    "    for name, group in records.groupby(['t', 'vertice', 'component']).mean().groupby(level=['vertice', 'component']):\n",
    "        data = group.reset_index()\n",
    "        ax.plot(data.t, data.value, alpha=.7, label=name[0][:5] + '_' + name[1][:15])\n",
    "    ax.legend()\n",
    "    fig.canvas.draw()\n",
    "    "
   ]
  },
  {
   "cell_type": "code",
   "execution_count": null,
   "metadata": {},
   "outputs": [],
   "source": []
  }
 ],
 "metadata": {
  "kernelspec": {
   "display_name": "Python 3",
   "language": "python",
   "name": "python3"
  },
  "language_info": {
   "codemirror_mode": {
    "name": "ipython",
    "version": 3
   },
   "file_extension": ".py",
   "mimetype": "text/x-python",
   "name": "python",
   "nbconvert_exporter": "python",
   "pygments_lexer": "ipython3",
   "version": "3.6.6"
  }
 },
 "nbformat": 4,
 "nbformat_minor": 2
}
